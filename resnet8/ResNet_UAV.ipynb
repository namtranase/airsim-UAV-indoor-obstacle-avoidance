{
  "nbformat": 4,
  "nbformat_minor": 0,
  "metadata": {
    "colab": {
      "name": "ResNet_v2.ipynb",
      "provenance": [],
      "collapsed_sections": [],
      "machine_shape": "hm",
      "include_colab_link": true
    },
    "kernelspec": {
      "name": "python3",
      "display_name": "Python 3"
    },
    "accelerator": "GPU"
  },
  "cells": [
    {
      "cell_type": "markdown",
      "metadata": {
        "id": "view-in-github",
        "colab_type": "text"
      },
      "source": [
        "<a href=\"https://colab.research.google.com/github/winter2897/Airsim-UAV-indoor-obstacle-avoidance-based-on-AI-technique-with-an-ensemble-of-ResNet8-and-Res-DQN/blob/master/ResNet_UAV.ipynb\" target=\"_parent\"><img src=\"https://colab.research.google.com/assets/colab-badge.svg\" alt=\"Open In Colab\"/></a>"
      ]
    },
    {
      "cell_type": "code",
      "metadata": {
        "id": "iK5SursULDx6",
        "colab_type": "code",
        "outputId": "92b32d5f-e0b7-4403-d18a-3ab1fa9b8b00",
        "colab": {
          "base_uri": "https://localhost:8080/",
          "height": 34
        }
      },
      "source": [
        "from google.colab import drive\n",
        "drive.mount('/content/drive')"
      ],
      "execution_count": 0,
      "outputs": [
        {
          "output_type": "stream",
          "text": [
            "Drive already mounted at /content/drive; to attempt to forcibly remount, call drive.mount(\"/content/drive\", force_remount=True).\n"
          ],
          "name": "stdout"
        }
      ]
    },
    {
      "cell_type": "code",
      "metadata": {
        "id": "dpWEcsYjLStW",
        "colab_type": "code",
        "outputId": "3144aa0f-e947-4573-d364-e27b924c467a",
        "colab": {
          "base_uri": "https://localhost:8080/",
          "height": 102
        }
      },
      "source": [
        "import os\n",
        "os.chdir('/content/drive/My Drive/Colab Notebooks/DroNet_V2_ASE')\n",
        "!ls"
      ],
      "execution_count": 0,
      "outputs": [
        {
          "output_type": "stream",
          "text": [
            "Array_dataset  dataset_02    resnet08_ase.png\t  ResNet_v3.ipynb\n",
            "Array_path     dataset.zip   resnet_block.drawio  ResNet_v4.ipynb\n",
            "Back_Up        model\t     resnet_block.png\t  ResNet_v5.ipynb\n",
            "dataset        plot_figs     ResNet_v1.ipynb\t  test\n",
            "dataset_01     resnet08_ase  ResNet_v2.ipynb\t  VGG.ipynb\n"
          ],
          "name": "stdout"
        }
      ]
    },
    {
      "cell_type": "code",
      "metadata": {
        "id": "idgEoD-3LWSr",
        "colab_type": "code",
        "colab": {}
      },
      "source": [
        "#!unzip \"/content/drive/My Drive/Colab Notebooks/DroNet_V2_ASE/data.zip\""
      ],
      "execution_count": 0,
      "outputs": []
    },
    {
      "cell_type": "code",
      "metadata": {
        "id": "ZZTJOvb0LW5v",
        "colab_type": "code",
        "colab": {}
      },
      "source": [
        "#import thu vien:\n",
        "import pandas as pd\n",
        "import cv2\n",
        "import numpy as np\n",
        "import os\n",
        "import matplotlib.pyplot as plt\n",
        "from sklearn.model_selection import train_test_split\n",
        "import keras\n",
        "from keras.models import Sequential, Model\n",
        "from keras.optimizers import Adam\n",
        "from keras.callbacks import ModelCheckpoint\n",
        "from keras.layers import Lambda, Conv2D, MaxPooling2D, Dropout, Dense, Flatten, BatchNormalization, Input, Activation\n",
        "from keras import regularizers \n",
        "from keras.utils import np_utils\n",
        "from keras.layers.merge import add"
      ],
      "execution_count": 0,
      "outputs": []
    },
    {
      "cell_type": "code",
      "metadata": {
        "id": "r8VlAemuLYtm",
        "colab_type": "code",
        "colab": {}
      },
      "source": [
        "# viet ham:\n",
        "# Kích thước ảnh cho input của model\n",
        "IMAGE_HEIGHT, IMAGE_WIDTH, IMAGE_CHANNELS = 72, 128, 3\n",
        "\n",
        "#1 ham sua nhan ve 0: di thang; 1: re trai; 2: re phai\n",
        "def fix_label (y):\n",
        "  for i in range(0, len(y)):\n",
        "    if y[i] == 0:\n",
        "      y[i] = 0\n",
        "    elif y[i] < 0:\n",
        "      y[i] = 1\n",
        "    else :\n",
        "      y[i] = 2\n",
        "  return y\n",
        "#2 chuyen doi tu rgba (4 chieu) sang rgb (3 chieu):\n",
        "def rgba_to_rgb(img_path):\n",
        "  image = cv2.imread(img_path)\n",
        "  image = cv2.cvtColor(image, cv2.COLOR_RGBA2RGB)\n",
        "  return image\n",
        "#3 chuyen doi tu rgb sang gray:\n",
        "def rgb_to_gay(img_path):\n",
        "  image = cv2.imread\n",
        "  image = cv2.cvtColor(image, cv2.COLOR_RGB2GRAY)\n",
        "  return image\n",
        "#4 resize anh:\n",
        "def resize(image):\n",
        "    return cv2.resize(image, (IMAGE_WIDTH, IMAGE_HEIGHT), cv2.INTER_AREA)\n",
        "#6 Doc anh tu dataset:\n",
        "def read_imgs(data):\n",
        "  \"\"\"\n",
        "  Doc anh tu dataset\n",
        "  \"\"\"\n",
        "  array_imgs=[]\n",
        "  for i in data:\n",
        "    # print('dataset/'+i[0])\n",
        "    img = np.array(cv2.imread('dataset_02/'+i[0]))\n",
        "    img = resize(img)\n",
        "    array_imgs.append(img)\n",
        "  return np.array(array_imgs)/255\n",
        "#7 copy dataset:\n",
        "def copy_dataset(data):\n",
        "  a = data\n",
        "  for i in range(10): #old 30\n",
        "    b = data\n",
        "    a = np.append(a, b, axis=0)\n",
        "  return a\n"
      ],
      "execution_count": 0,
      "outputs": []
    },
    {
      "cell_type": "code",
      "metadata": {
        "id": "0-yBHg1GLjMd",
        "colab_type": "code",
        "outputId": "58c10b9e-8342-4418-ffc7-ce96a6a5b09e",
        "colab": {
          "base_uri": "https://localhost:8080/",
          "height": 405
        }
      },
      "source": [
        "#Thu muc luu dataset:\n",
        "data_dir = '/content/drive/My Drive/Colab Notebooks/DroNet_V2_ASE/dataset'\n",
        "#Doc file csv voi cac title tuong ung:\n",
        "data_df = pd.read_csv(os.path.join(os.getcwd(), data_dir, 'data.csv'),\n",
        "                      names=['imgs', 'v_x', 'v_y', 'v', 'steering'])\n",
        "\n",
        "# data_df = pd.read_csv(os.path.join(os.getcwd(), data_dir, 'data.csv'),\n",
        "#                       names=['imgs','v', 'steering'])\n",
        "# Lấy đường dẫn đến ảnh\n",
        "X = data_df[['imgs']].values\n",
        "X = read_imgs(X)\n",
        "X = copy_dataset(X)\n",
        "# Lấy góc lái của drone\n",
        "y = data_df['steering'].values\n",
        "fix_label(y)\n",
        "y = copy_dataset(y)\n",
        "Y_one_hot = np_utils.to_categorical(y, 3)\n",
        "# Vẽ histogram dữ liệu\n",
        "plt.hist(y)\n",
        "print(Y_one_hot)\n",
        "print(X[0].shape)"
      ],
      "execution_count": 0,
      "outputs": [
        {
          "output_type": "stream",
          "text": [
            "[[1. 0. 0.]\n",
            " [0. 1. 0.]\n",
            " [0. 0. 1.]\n",
            " ...\n",
            " [0. 0. 1.]\n",
            " [0. 0. 1.]\n",
            " [0. 0. 1.]]\n",
            "(72, 128, 3)\n"
          ],
          "name": "stdout"
        },
        {
          "output_type": "display_data",
          "data": {
            "image/png": "[encoded data removed]",
            "text/plain": [
              "<Figure size 432x288 with 1 Axes>"
            ]
          },
          "metadata": {
            "tags": []
          }
        }
      ]
    },
    {
      "cell_type": "code",
      "metadata": {
        "id": "6QupxmcjLpZU",
        "colab_type": "code",
        "outputId": "60f81531-ca2c-42a4-bbc3-783ca74cc528",
        "colab": {
          "base_uri": "https://localhost:8080/",
          "height": 85
        }
      },
      "source": [
        "print('Dữ liệu y ban đầu: ', y[1])\n",
        "print('Dữ liệu y sau one-hot encoding: ',Y_one_hot[1])\n",
        "print('Shape của nhãn:',Y_one_hot.shape)\n",
        "print('Shape của dataset:',X.shape)"
      ],
      "execution_count": 0,
      "outputs": [
        {
          "output_type": "stream",
          "text": [
            "Dữ liệu y ban đầu:  1.0\n",
            "Dữ liệu y sau one-hot encoding:  [0. 1. 0.]\n",
            "Shape của nhãn: (11198, 3)\n",
            "Shape của dataset: (11198, 72, 128, 3)\n"
          ],
          "name": "stdout"
        }
      ]
    },
    {
      "cell_type": "code",
      "metadata": {
        "id": "NbGkUKiPLsT3",
        "colab_type": "code",
        "outputId": "2aee2cc2-5619-487f-e9a8-4d47b3f30293",
        "colab": {
          "base_uri": "https://localhost:8080/",
          "height": 51
        }
      },
      "source": [
        "X_train, X_valid, y_train, y_valid = train_test_split(X, Y_one_hot, test_size=0.2, random_state=0)\n",
        "print(X_train.shape)\n",
        "y_train.shape"
      ],
      "execution_count": 0,
      "outputs": [
        {
          "output_type": "stream",
          "text": [
            "(8958, 72, 128, 3)\n"
          ],
          "name": "stdout"
        },
        {
          "output_type": "execute_result",
          "data": {
            "text/plain": [
              "(8958, 3)"
            ]
          },
          "metadata": {
            "tags": []
          },
          "execution_count": 64
        }
      ]
    },
    {
      "cell_type": "code",
      "metadata": {
        "id": "kC0QZ36ILvXA",
        "colab_type": "code",
        "outputId": "8013146b-fbfc-401a-e109-0ff7b6cdc24f",
        "colab": {
          "base_uri": "https://localhost:8080/",
          "height": 1000
        }
      },
      "source": [
        "def resnet8(IMAGE_HEIGHT, IMAGE_WIDTH, IMAGE_CHANNELS):\n",
        "  INPUT_SHAPE = Input(shape=(IMAGE_HEIGHT, IMAGE_WIDTH, IMAGE_CHANNELS))\n",
        "  x1 = Conv2D(32, (5, 5), strides=[2,2], padding='same')(INPUT_SHAPE)\n",
        "  x1 = MaxPooling2D(pool_size=(3, 3), strides=[2,2])(x1)\n",
        "      # First residual block: RES BLOCK 1\n",
        "  x2 = keras.layers.normalization.BatchNormalization()(x1)\n",
        "  x2 = Activation('relu')(x2)\n",
        "  x2 = Conv2D(32, (3, 3), strides=[2,2], padding='same',\n",
        "       kernel_initializer=\"he_normal\",\n",
        "       kernel_regularizer=regularizers.l2(1e-4))(x2)\n",
        "\n",
        "  x2 = keras.layers.normalization.BatchNormalization()(x2)\n",
        "  x2 = Activation('relu')(x2)\n",
        "  x2 = Conv2D(32, (3, 3), padding='same',\n",
        "       kernel_initializer=\"he_normal\",\n",
        "       kernel_regularizer=regularizers.l2(1e-4))(x2)\n",
        "\n",
        "  x1 = Conv2D(32, (1, 1), strides=[2,2], padding='same')(x1)\n",
        "  x3 = add([x1, x2])\n",
        "\n",
        "      # Second residual block: RES BLOCK 2\n",
        "  x4 = keras.layers.normalization.BatchNormalization()(x3)\n",
        "  x4 = Activation('relu')(x4)\n",
        "  x4 = Conv2D(64, (3, 3), strides=[2,2], padding='same',\n",
        "                  kernel_initializer=\"he_normal\",\n",
        "                  kernel_regularizer=regularizers.l2(1e-4))(x4)\n",
        "\n",
        "  x4 = keras.layers.normalization.BatchNormalization()(x4)\n",
        "  x4 = Activation('relu')(x4)\n",
        "  x4 = Conv2D(64, (3, 3), padding='same',\n",
        "              kernel_initializer=\"he_normal\",\n",
        "              kernel_regularizer=regularizers.l2(1e-4))(x4)\n",
        "\n",
        "  x3 = Conv2D(64, (1, 1), strides=[2,2], padding='same')(x3)\n",
        "  x5 = add([x3, x4])\n",
        "\n",
        "      # Third residual block: RES BLOCK 3\n",
        "  x6 = keras.layers.normalization.BatchNormalization()(x5)\n",
        "  x6 = Activation('relu')(x6)\n",
        "  x6 = Conv2D(128, (3, 3), strides=[2,2], padding='same',\n",
        "              kernel_initializer=\"he_normal\",\n",
        "              kernel_regularizer=regularizers.l2(1e-4))(x6)\n",
        "\n",
        "  x6 = keras.layers.normalization.BatchNormalization()(x6)\n",
        "  x6 = Activation('relu')(x6)\n",
        "  x6 = Conv2D(128, (3, 3), padding='same',\n",
        "              kernel_initializer=\"he_normal\",\n",
        "              kernel_regularizer=regularizers.l2(1e-4))(x6)\n",
        "\n",
        "  x5 = Conv2D(128, (1, 1), strides=[2,2], padding='same')(x5)\n",
        "  x7 = add([x5, x6])\n",
        "\n",
        "      #Flatten \n",
        "  x8 = Flatten()(x7)\n",
        "  x8 = Activation('relu')(x8)\n",
        "  x8 = Dropout(0.5)(x8)\n",
        "  \n",
        "  x9 = Dense(512, activation = \"relu\")(x8)\n",
        "  x9 = Dropout(0.5)(x9)\n",
        "  result =  Dense(3, activation = 'softmax')(x9)\n",
        "\n",
        "  model = Model(inputs=[INPUT_SHAPE], outputs=[result])\n",
        "  print(model.summary())\n",
        "  return model\n",
        "\n",
        "model = resnet8(IMAGE_HEIGHT, IMAGE_WIDTH, IMAGE_CHANNELS)"
      ],
      "execution_count": 0,
      "outputs": [
        {
          "output_type": "stream",
          "text": [
            "Model: \"model_13\"\n",
            "__________________________________________________________________________________________________\n",
            "Layer (type)                    Output Shape         Param #     Connected to                     \n",
            "==================================================================================================\n",
            "input_13 (InputLayer)           (None, 72, 128, 3)   0                                            \n",
            "__________________________________________________________________________________________________\n",
            "conv2d_121 (Conv2D)             (None, 36, 64, 32)   2432        input_13[0][0]                   \n",
            "__________________________________________________________________________________________________\n",
            "max_pooling2d_13 (MaxPooling2D) (None, 17, 31, 32)   0           conv2d_121[0][0]                 \n",
            "__________________________________________________________________________________________________\n",
            "batch_normalization_73 (BatchNo (None, 17, 31, 32)   128         max_pooling2d_13[0][0]           \n",
            "__________________________________________________________________________________________________\n",
            "activation_85 (Activation)      (None, 17, 31, 32)   0           batch_normalization_73[0][0]     \n",
            "__________________________________________________________________________________________________\n",
            "conv2d_122 (Conv2D)             (None, 9, 16, 32)    9248        activation_85[0][0]              \n",
            "__________________________________________________________________________________________________\n",
            "batch_normalization_74 (BatchNo (None, 9, 16, 32)    128         conv2d_122[0][0]                 \n",
            "__________________________________________________________________________________________________\n",
            "activation_86 (Activation)      (None, 9, 16, 32)    0           batch_normalization_74[0][0]     \n",
            "__________________________________________________________________________________________________\n",
            "conv2d_124 (Conv2D)             (None, 9, 16, 32)    1056        max_pooling2d_13[0][0]           \n",
            "__________________________________________________________________________________________________\n",
            "conv2d_123 (Conv2D)             (None, 9, 16, 32)    9248        activation_86[0][0]              \n",
            "__________________________________________________________________________________________________\n",
            "add_37 (Add)                    (None, 9, 16, 32)    0           conv2d_124[0][0]                 \n",
            "                                                                 conv2d_123[0][0]                 \n",
            "__________________________________________________________________________________________________\n",
            "batch_normalization_75 (BatchNo (None, 9, 16, 32)    128         add_37[0][0]                     \n",
            "__________________________________________________________________________________________________\n",
            "activation_87 (Activation)      (None, 9, 16, 32)    0           batch_normalization_75[0][0]     \n",
            "__________________________________________________________________________________________________\n",
            "conv2d_125 (Conv2D)             (None, 5, 8, 64)     18496       activation_87[0][0]              \n",
            "__________________________________________________________________________________________________\n",
            "batch_normalization_76 (BatchNo (None, 5, 8, 64)     256         conv2d_125[0][0]                 \n",
            "__________________________________________________________________________________________________\n",
            "activation_88 (Activation)      (None, 5, 8, 64)     0           batch_normalization_76[0][0]     \n",
            "__________________________________________________________________________________________________\n",
            "conv2d_127 (Conv2D)             (None, 5, 8, 64)     2112        add_37[0][0]                     \n",
            "__________________________________________________________________________________________________\n",
            "conv2d_126 (Conv2D)             (None, 5, 8, 64)     36928       activation_88[0][0]              \n",
            "__________________________________________________________________________________________________\n",
            "add_38 (Add)                    (None, 5, 8, 64)     0           conv2d_127[0][0]                 \n",
            "                                                                 conv2d_126[0][0]                 \n",
            "__________________________________________________________________________________________________\n",
            "batch_normalization_77 (BatchNo (None, 5, 8, 64)     256         add_38[0][0]                     \n",
            "__________________________________________________________________________________________________\n",
            "activation_89 (Activation)      (None, 5, 8, 64)     0           batch_normalization_77[0][0]     \n",
            "__________________________________________________________________________________________________\n",
            "conv2d_128 (Conv2D)             (None, 3, 4, 128)    73856       activation_89[0][0]              \n",
            "__________________________________________________________________________________________________\n",
            "batch_normalization_78 (BatchNo (None, 3, 4, 128)    512         conv2d_128[0][0]                 \n",
            "__________________________________________________________________________________________________\n",
            "activation_90 (Activation)      (None, 3, 4, 128)    0           batch_normalization_78[0][0]     \n",
            "__________________________________________________________________________________________________\n",
            "conv2d_130 (Conv2D)             (None, 3, 4, 128)    8320        add_38[0][0]                     \n",
            "__________________________________________________________________________________________________\n",
            "conv2d_129 (Conv2D)             (None, 3, 4, 128)    147584      activation_90[0][0]              \n",
            "__________________________________________________________________________________________________\n",
            "add_39 (Add)                    (None, 3, 4, 128)    0           conv2d_130[0][0]                 \n",
            "                                                                 conv2d_129[0][0]                 \n",
            "__________________________________________________________________________________________________\n",
            "flatten_13 (Flatten)            (None, 1536)         0           add_39[0][0]                     \n",
            "__________________________________________________________________________________________________\n",
            "activation_91 (Activation)      (None, 1536)         0           flatten_13[0][0]                 \n",
            "__________________________________________________________________________________________________\n",
            "dropout_25 (Dropout)            (None, 1536)         0           activation_91[0][0]              \n",
            "__________________________________________________________________________________________________\n",
            "dense_25 (Dense)                (None, 512)          786944      dropout_25[0][0]                 \n",
            "__________________________________________________________________________________________________\n",
            "dropout_26 (Dropout)            (None, 512)          0           dense_25[0][0]                   \n",
            "__________________________________________________________________________________________________\n",
            "dense_26 (Dense)                (None, 3)            1539        dropout_26[0][0]                 \n",
            "==================================================================================================\n",
            "Total params: 1,099,171\n",
            "Trainable params: 1,098,467\n",
            "Non-trainable params: 704\n",
            "__________________________________________________________________________________________________\n",
            "None\n"
          ],
          "name": "stdout"
        }
      ]
    },
    {
      "cell_type": "code",
      "metadata": {
        "id": "i1EU4bnZL6l2",
        "colab_type": "code",
        "outputId": "03436180-4b80-4a88-e7bf-4ef0ee462d2b",
        "colab": {
          "base_uri": "https://localhost:8080/",
          "height": 1000
        }
      },
      "source": [
        "# Compile model, chỉ rõ hàm loss_function nào được sử dụng, phương thức dùng để tối ưu hàm loss function.\n",
        "model.compile(loss='categorical_crossentropy',\n",
        "              optimizer='adam',\n",
        "              metrics=['accuracy'])\n",
        "# Checkpoint\n",
        "from keras.callbacks import ModelCheckpoint\n",
        "\n",
        "model_file = \"model/checkpoint/ResNet_08_v1_checkpoint.h5\"\n",
        "checkpoint = ModelCheckpoint(model_file, monitor='val_loss', verbose=1, save_best_only=True, mode='min')\n",
        "callbacks_list = [checkpoint]\n",
        "\n",
        "# Thực hiện train model với data\n",
        "H = model.fit(X_train, y_train, validation_data=(X_valid, y_valid),\n",
        "          batch_size=128, epochs=40, verbose=1, callbacks=callbacks_list, shuffle=1)"
      ],
      "execution_count": 0,
      "outputs": [
        {
          "output_type": "stream",
          "text": [
            "Train on 8958 samples, validate on 2240 samples\n",
            "Epoch 1/40\n",
            "8958/8958 [==============================] - 12s 1ms/step - loss: 0.8202 - acc: 0.7330 - val_loss: 0.5184 - val_acc: 0.8464\n",
            "\n",
            "Epoch 00001: val_loss improved from inf to 0.51841, saving model to model/checkpoint/Rollback_ResNet_08_v1_2_checkpoint.h5\n",
            "Epoch 2/40\n",
            "8958/8958 [==============================] - 5s 520us/step - loss: 0.3780 - acc: 0.8804 - val_loss: 0.3483 - val_acc: 0.8946\n",
            "\n",
            "Epoch 00002: val_loss improved from 0.51841 to 0.34831, saving model to model/checkpoint/Rollback_ResNet_08_v1_2_checkpoint.h5\n",
            "Epoch 3/40\n",
            "8958/8958 [==============================] - 5s 516us/step - loss: 0.2218 - acc: 0.9526 - val_loss: 0.2760 - val_acc: 0.9214\n",
            "\n",
            "Epoch 00003: val_loss improved from 0.34831 to 0.27595, saving model to model/checkpoint/Rollback_ResNet_08_v1_2_checkpoint.h5\n",
            "Epoch 4/40\n",
            "8958/8958 [==============================] - 5s 517us/step - loss: 0.1602 - acc: 0.9751 - val_loss: 0.5074 - val_acc: 0.8612\n",
            "\n",
            "Epoch 00004: val_loss did not improve from 0.27595\n",
            "Epoch 5/40\n",
            "8958/8958 [==============================] - 5s 517us/step - loss: 0.1429 - acc: 0.9820 - val_loss: 0.5270 - val_acc: 0.8313\n",
            "\n",
            "Epoch 00005: val_loss did not improve from 0.27595\n",
            "Epoch 6/40\n",
            "8958/8958 [==============================] - 5s 515us/step - loss: 0.1479 - acc: 0.9806 - val_loss: 0.4591 - val_acc: 0.8915\n",
            "\n",
            "Epoch 00006: val_loss did not improve from 0.27595\n",
            "Epoch 7/40\n",
            "8958/8958 [==============================] - 5s 515us/step - loss: 0.1200 - acc: 0.9912 - val_loss: 0.3350 - val_acc: 0.8951\n",
            "\n",
            "Epoch 00007: val_loss did not improve from 0.27595\n",
            "Epoch 8/40\n",
            "8958/8958 [==============================] - 5s 517us/step - loss: 0.1492 - acc: 0.9809 - val_loss: 0.4236 - val_acc: 0.8915\n",
            "\n",
            "Epoch 00008: val_loss did not improve from 0.27595\n",
            "Epoch 9/40\n",
            "8958/8958 [==============================] - 5s 512us/step - loss: 0.1251 - acc: 0.9916 - val_loss: 0.1419 - val_acc: 0.9804\n",
            "\n",
            "Epoch 00009: val_loss improved from 0.27595 to 0.14191, saving model to model/checkpoint/Rollback_ResNet_08_v1_2_checkpoint.h5\n",
            "Epoch 10/40\n",
            "8958/8958 [==============================] - 5s 512us/step - loss: 0.1226 - acc: 0.9919 - val_loss: 0.6009 - val_acc: 0.8536\n",
            "\n",
            "Epoch 00010: val_loss did not improve from 0.14191\n",
            "Epoch 11/40\n",
            "8958/8958 [==============================] - 5s 508us/step - loss: 0.1183 - acc: 0.9917 - val_loss: 0.2911 - val_acc: 0.9371\n",
            "\n",
            "Epoch 00011: val_loss did not improve from 0.14191\n",
            "Epoch 12/40\n",
            "8958/8958 [==============================] - 5s 508us/step - loss: 0.1113 - acc: 0.9933 - val_loss: 0.1372 - val_acc: 0.9817\n",
            "\n",
            "Epoch 00012: val_loss improved from 0.14191 to 0.13724, saving model to model/checkpoint/Rollback_ResNet_08_v1_2_checkpoint.h5\n",
            "Epoch 13/40\n",
            "8958/8958 [==============================] - 5s 510us/step - loss: 0.1070 - acc: 0.9951 - val_loss: 0.1548 - val_acc: 0.9804\n",
            "\n",
            "Epoch 00013: val_loss did not improve from 0.13724\n",
            "Epoch 14/40\n",
            "8958/8958 [==============================] - 5s 511us/step - loss: 0.1082 - acc: 0.9951 - val_loss: 0.1416 - val_acc: 0.9848\n",
            "\n",
            "Epoch 00014: val_loss did not improve from 0.13724\n",
            "Epoch 15/40\n",
            "8958/8958 [==============================] - 5s 513us/step - loss: 0.1049 - acc: 0.9956 - val_loss: 0.2863 - val_acc: 0.9357\n",
            "\n",
            "Epoch 00015: val_loss did not improve from 0.13724\n",
            "Epoch 16/40\n",
            "8958/8958 [==============================] - 5s 509us/step - loss: 0.1193 - acc: 0.9923 - val_loss: 0.2805 - val_acc: 0.9437\n",
            "\n",
            "Epoch 00016: val_loss did not improve from 0.13724\n",
            "Epoch 17/40\n",
            "8958/8958 [==============================] - 5s 510us/step - loss: 0.0964 - acc: 0.9980 - val_loss: 0.0920 - val_acc: 1.0000\n",
            "\n",
            "Epoch 00017: val_loss improved from 0.13724 to 0.09203, saving model to model/checkpoint/Rollback_ResNet_08_v1_2_checkpoint.h5\n",
            "Epoch 18/40\n",
            "8958/8958 [==============================] - 5s 509us/step - loss: 0.0932 - acc: 0.9987 - val_loss: 0.0957 - val_acc: 0.9964\n",
            "\n",
            "Epoch 00018: val_loss did not improve from 0.09203\n",
            "Epoch 19/40\n",
            "8958/8958 [==============================] - 5s 511us/step - loss: 0.0988 - acc: 0.9970 - val_loss: 0.3225 - val_acc: 0.9393\n",
            "\n",
            "Epoch 00019: val_loss did not improve from 0.09203\n",
            "Epoch 20/40\n",
            "8958/8958 [==============================] - 5s 508us/step - loss: 0.1253 - acc: 0.9872 - val_loss: 0.5172 - val_acc: 0.8737\n",
            "\n",
            "Epoch 00020: val_loss did not improve from 0.09203\n",
            "Epoch 21/40\n",
            "8958/8958 [==============================] - 5s 512us/step - loss: 0.1122 - acc: 0.9931 - val_loss: 0.2479 - val_acc: 0.9469\n",
            "\n",
            "Epoch 00021: val_loss did not improve from 0.09203\n",
            "Epoch 22/40\n",
            "8958/8958 [==============================] - 5s 511us/step - loss: 0.1085 - acc: 0.9944 - val_loss: 0.1107 - val_acc: 0.9929\n",
            "\n",
            "Epoch 00022: val_loss did not improve from 0.09203\n",
            "Epoch 23/40\n",
            "8958/8958 [==============================] - 5s 511us/step - loss: 0.0936 - acc: 0.9981 - val_loss: 0.1209 - val_acc: 0.9906\n",
            "\n",
            "Epoch 00023: val_loss did not improve from 0.09203\n",
            "Epoch 24/40\n",
            "8958/8958 [==============================] - 5s 511us/step - loss: 0.0975 - acc: 0.9974 - val_loss: 0.1131 - val_acc: 0.9879\n",
            "\n",
            "Epoch 00024: val_loss did not improve from 0.09203\n",
            "Epoch 25/40\n",
            "8958/8958 [==============================] - 5s 510us/step - loss: 0.0952 - acc: 0.9974 - val_loss: 0.2996 - val_acc: 0.9375\n",
            "\n",
            "Epoch 00025: val_loss did not improve from 0.09203\n",
            "Epoch 26/40\n",
            "8958/8958 [==============================] - 5s 512us/step - loss: 0.1094 - acc: 0.9941 - val_loss: 0.3201 - val_acc: 0.9402\n",
            "\n",
            "Epoch 00026: val_loss did not improve from 0.09203\n",
            "Epoch 27/40\n",
            "8958/8958 [==============================] - 5s 509us/step - loss: 0.0973 - acc: 0.9970 - val_loss: 0.1813 - val_acc: 0.9696\n",
            "\n",
            "Epoch 00027: val_loss did not improve from 0.09203\n",
            "Epoch 28/40\n",
            "8958/8958 [==============================] - 5s 511us/step - loss: 0.0990 - acc: 0.9972 - val_loss: 0.1572 - val_acc: 0.9772\n",
            "\n",
            "Epoch 00028: val_loss did not improve from 0.09203\n",
            "Epoch 29/40\n",
            "8958/8958 [==============================] - 5s 510us/step - loss: 0.1019 - acc: 0.9953 - val_loss: 0.2588 - val_acc: 0.9531\n",
            "\n",
            "Epoch 00029: val_loss did not improve from 0.09203\n",
            "Epoch 30/40\n",
            "8958/8958 [==============================] - 5s 510us/step - loss: 0.1065 - acc: 0.9948 - val_loss: 0.1516 - val_acc: 0.9723\n",
            "\n",
            "Epoch 00030: val_loss did not improve from 0.09203\n",
            "Epoch 31/40\n",
            "8958/8958 [==============================] - 5s 509us/step - loss: 0.0899 - acc: 0.9989 - val_loss: 0.1689 - val_acc: 0.9879\n",
            "\n",
            "Epoch 00031: val_loss did not improve from 0.09203\n",
            "Epoch 32/40\n",
            "8958/8958 [==============================] - 5s 509us/step - loss: 0.0906 - acc: 0.9977 - val_loss: 0.1071 - val_acc: 0.9933\n",
            "\n",
            "Epoch 00032: val_loss did not improve from 0.09203\n",
            "Epoch 33/40\n",
            "8958/8958 [==============================] - 5s 510us/step - loss: 0.0875 - acc: 0.9989 - val_loss: 0.1492 - val_acc: 0.9737\n",
            "\n",
            "Epoch 00033: val_loss did not improve from 0.09203\n",
            "Epoch 34/40\n",
            "8958/8958 [==============================] - 5s 511us/step - loss: 0.0892 - acc: 0.9983 - val_loss: 0.3539 - val_acc: 0.9339\n",
            "\n",
            "Epoch 00034: val_loss did not improve from 0.09203\n",
            "Epoch 35/40\n",
            "8958/8958 [==============================] - 5s 510us/step - loss: 0.0874 - acc: 0.9980 - val_loss: 0.2605 - val_acc: 0.9634\n",
            "\n",
            "Epoch 00035: val_loss did not improve from 0.09203\n",
            "Epoch 36/40\n",
            "8958/8958 [==============================] - 5s 509us/step - loss: 0.0888 - acc: 0.9975 - val_loss: 0.1590 - val_acc: 0.9665\n",
            "\n",
            "Epoch 00036: val_loss did not improve from 0.09203\n",
            "Epoch 37/40\n",
            "8958/8958 [==============================] - 5s 509us/step - loss: 0.0889 - acc: 0.9969 - val_loss: 0.1273 - val_acc: 0.9875\n",
            "\n",
            "Epoch 00037: val_loss did not improve from 0.09203\n",
            "Epoch 38/40\n",
            "8958/8958 [==============================] - 5s 510us/step - loss: 0.0829 - acc: 0.9992 - val_loss: 0.0905 - val_acc: 0.9978\n",
            "\n",
            "Epoch 00038: val_loss improved from 0.09203 to 0.09046, saving model to model/checkpoint/Rollback_ResNet_08_v1_2_checkpoint.h5\n",
            "Epoch 39/40\n",
            "8958/8958 [==============================] - 5s 511us/step - loss: 0.0795 - acc: 0.9994 - val_loss: 0.0869 - val_acc: 0.9938\n",
            "\n",
            "Epoch 00039: val_loss improved from 0.09046 to 0.08692, saving model to model/checkpoint/Rollback_ResNet_08_v1_2_checkpoint.h5\n",
            "Epoch 40/40\n",
            "8958/8958 [==============================] - 5s 506us/step - loss: 0.0783 - acc: 0.9996 - val_loss: 0.0765 - val_acc: 1.0000\n",
            "\n",
            "Epoch 00040: val_loss improved from 0.08692 to 0.07646, saving model to model/checkpoint/Rollback_ResNet_08_v1_2_checkpoint.h5\n"
          ],
          "name": "stdout"
        }
      ]
    },
    {
      "cell_type": "code",
      "metadata": {
        "id": "S8QYqYC_MB8O",
        "colab_type": "code",
        "outputId": "060c7268-217a-475c-e217-02e8e2ddb573",
        "colab": {
          "base_uri": "https://localhost:8080/",
          "height": 573
        }
      },
      "source": [
        "fig1 = plt.figure()\n",
        "plt.plot(H.history['acc'])\n",
        "plt.plot(H.history['val_acc'])\n",
        "plt.title('Model accuracy')\n",
        "plt.ylabel('Accuracy')\n",
        "plt.xlabel('Epoch')\n",
        "plt.legend(['Train', 'Test'], loc='upper left')\n",
        "plt.show()\n",
        "fig1.savefig(\"plot_figs/Model_ResNet_08_v1_accuracy.png\")\n",
        "\n",
        "fig2 = plt.figure()\n",
        "plt.plot(H.history['loss'])\n",
        "plt.plot(H.history['val_loss'])\n",
        "plt.title('Model loss')\n",
        "plt.ylabel('Loss')\n",
        "plt.xlabel('Epoch')\n",
        "plt.legend(['Train', 'Test'], loc='upper left')\n",
        "plt.show()\n",
        "fig2.savefig(\"plot_figs/Model_ResNet_08_v1_loss.png\")"
      ],
      "execution_count": 0,
      "outputs": [
        {
          "output_type": "display_data",
          "data": {
            "image/png": "[encoded data removed]",
            "text/plain": [
              "<Figure size 432x288 with 1 Axes>"
            ]
          },
          "metadata": {
            "tags": []
          }
        },
        {
          "output_type": "display_data",
          "data": {
            "image/png": "[encoded data removed]",
            "text/plain": [
              "<Figure size 432x288 with 1 Axes>"
            ]
          },
          "metadata": {
            "tags": []
          }
        }
      ]
    },
    {
      "cell_type": "code",
      "metadata": {
        "id": "wcpFFetXSlOM",
        "colab_type": "code",
        "outputId": "ec427c0b-5556-4656-fcab-28cbe4c9c83c",
        "colab": {
          "base_uri": "https://localhost:8080/",
          "height": 68
        }
      },
      "source": [
        "results = model.evaluate(x=X_valid, y=y_valid, batch_size=128, verbose=1, sample_weight=None, steps=None, callbacks=None, max_queue_size=10, workers=1, use_multiprocessing=False)\n",
        "print('Test loss: {0:.2f}'.format(results[0]))\n",
        "print('Test accuracy: {0:.2f}%'.format(results[1]*100))"
      ],
      "execution_count": 0,
      "outputs": [
        {
          "output_type": "stream",
          "text": [
            "6312/6312 [==============================] - 2s 244us/step\n",
            "Test loss: 0.11\n",
            "Test accuracy: 99.89%\n"
          ],
          "name": "stdout"
        }
      ]
    },
    {
      "cell_type": "code",
      "metadata": {
        "id": "bfNS22B2MEX_",
        "colab_type": "code",
        "colab": {}
      },
      "source": [
        "import json\n",
        "# lets assume `model` is main model \n",
        "model_json = model.to_json()\n",
        "with open(\"model/ResNet_08_v1_checkpoint.json\", \"w\") as json_file:\n",
        "    json.dump(model_json, json_file)\n",
        "\n",
        "model.save_weights(\"model/ResNet_08_v1.h5.h5\")"
      ],
      "execution_count": 0,
      "outputs": []
    },
    {
      "cell_type": "markdown",
      "metadata": {
        "id": "ArvcrULfMJXZ",
        "colab_type": "text"
      },
      "source": [
        "**Test**"
      ]
    },
    {
      "cell_type": "code",
      "metadata": {
        "id": "c327ujPcMMgL",
        "colab_type": "code",
        "colab": {}
      },
      "source": [
        "from keras.models import load_model\n",
        "from keras.models import model_from_json\n",
        "import json\n",
        "\n",
        "with open('model/architecture/Improve_ResNet_08_v1_2_checkpoint.json','r') as f:\n",
        "    model_json = json.load(f)\n",
        "\n",
        "model = model_from_json(model_json)\n",
        "model.load_weights('model/checkpoint/Improve_ResNet_08_v1_2_checkpoint.h5')"
      ],
      "execution_count": 0,
      "outputs": []
    },
    {
      "cell_type": "code",
      "metadata": {
        "id": "L-B2pM7tMTbt",
        "colab_type": "code",
        "outputId": "34b5e553-c018-4501-f873-a8109c077f5a",
        "colab": {
          "base_uri": "https://localhost:8080/",
          "height": 291
        }
      },
      "source": [
        "img = cv2.imread('/content/drive/My Drive/Colab Notebooks/DroNet_V2_ASE/testset/1.png')\n",
        "plt.imshow(img)\n",
        "img = resize(img)\n",
        "print(img.shape)\n",
        "img = np.array(img)/255\n",
        "predictASE = model.predict(img.reshape(1,200,200,3))\n",
        "print(predictASE)\n",
        "print('Giá trị số : ', np.argmax(predictASE))\n",
        "# print('Giá trị dự đoán: ', label_pre.get(np.argmax(predictASE)))"
      ],
      "execution_count": 0,
      "outputs": [
        {
          "output_type": "stream",
          "text": [
            "(200, 200, 3)\n",
            "[[6.7197223e-04 9.9931991e-01 8.0908667e-06]]\n",
            "Giá trị số :  1\n"
          ],
          "name": "stdout"
        },
        {
          "output_type": "display_data",
          "data": {
            "image/png": "[encoded data removed]",
            "text/plain": [
              "<Figure size 432x288 with 1 Axes>"
            ]
          },
          "metadata": {
            "tags": []
          }
        }
      ]
    },
    {
      "cell_type": "markdown",
      "metadata": {
        "id": "xqfMIWzn5c7i",
        "colab_type": "text"
      },
      "source": [
        "DỰ ĐOÁN KẾT QUẢ"
      ]
    },
    {
      "cell_type": "code",
      "metadata": {
        "id": "VDqsaReCIH_V",
        "colab_type": "code",
        "colab": {}
      },
      "source": [
        "from sklearn.utils import shuffle\n",
        "\n",
        "def read_imgs(data):\n",
        "  array_imgs=[]\n",
        "  for i in data:\n",
        "    # print('dataset/'+i[0])\n",
        "    img = np.array(cv2.imread('dataset_01/'+i[0]))\n",
        "    img = resize(img)\n",
        "    array_imgs.append(img)\n",
        "  return np.array(array_imgs)/255\n",
        "\n",
        "\n",
        "#8 test func:\n",
        "def test_data(data_test_dir):\n",
        "  test_dir = data_test_dir\n",
        "  test_df = pd.read_csv(os.path.join(os.getcwd(), test_dir, 'data.csv'),\n",
        "                        names=['imgs', 'v_x', 'v_y', 'v', 'steering'])\n",
        "  \n",
        "  # test_df = pd.read_csv(os.path.join(os.getcwd(), test_dir, 'data.csv'),\n",
        "  #                     names=['imgs','v', 'steering'])\n",
        "  # Lấy đường dẫn đến ảnh\n",
        "  X = test_df[['imgs']].values\n",
        "  X = read_imgs(X)\n",
        "  # Lấy góc lái của drone\n",
        "  y = test_df['steering'].values\n",
        "  fix_label(y)\n",
        "  Y_one_hot = np_utils.to_categorical(y, 3)\n",
        "  return X, Y_one_hot\n",
        "\n",
        "test_dir = '/content/drive/My Drive/Colab Notebooks/DroNet_V2_ASE/testset'\n",
        "test_img, test_label = test_data(test_dir)"
      ],
      "execution_count": 0,
      "outputs": []
    },
    {
      "cell_type": "code",
      "metadata": {
        "id": "6ehESbpYIKpC",
        "colab_type": "code",
        "outputId": "126a4459-25d6-4dca-a57d-5411b1f526ca",
        "colab": {
          "base_uri": "https://localhost:8080/",
          "height": 51
        }
      },
      "source": [
        "print(test_img.shape)\n",
        "print(test_label.shape)"
      ],
      "execution_count": 0,
      "outputs": [
        {
          "output_type": "stream",
          "text": [
            "(345, 72, 128, 3)\n",
            "(345, 3)\n"
          ],
          "name": "stdout"
        }
      ]
    },
    {
      "cell_type": "code",
      "metadata": {
        "id": "pCP5xWVbK06c",
        "colab_type": "code",
        "colab": {}
      },
      "source": [
        "#####call back model######\n",
        "from keras.models import load_model\n",
        "from keras.models import model_from_json\n",
        "import json\n",
        "\n",
        "with open('/content/drive/My Drive/Colab Notebooks/DroNet_V2_ASE/Back_Up/back_up_vat_can/Dronet_008_vatcan_model_in_json.json','r') as f:\n",
        "    model_json = json.load(f)\n",
        "\n",
        "model = model_from_json(model_json)\n",
        "model.load_weights('/content/drive/My Drive/Colab Notebooks/DroNet_V2_ASE/Back_Up/back_up_vat_can/Dronet_008_vatcan_weights.h5')"
      ],
      "execution_count": 0,
      "outputs": []
    },
    {
      "cell_type": "code",
      "metadata": {
        "id": "WTYZoszV_SxJ",
        "colab_type": "code",
        "outputId": "dc4fb11e-347d-49e2-ab1e-aac5fe3fbb86",
        "colab": {
          "base_uri": "https://localhost:8080/",
          "height": 102
        }
      },
      "source": [
        "predictASE = model.predict(test_img[0].reshape(1, 72, 128, 3))\n",
        "print(predictASE)\n",
        "print(test_label[0])\n",
        "print(np.argmax(predictASE))\n",
        "print(np.argmax(test_label[0]))\n",
        "print(test_label[0])"
      ],
      "execution_count": 0,
      "outputs": [
        {
          "output_type": "stream",
          "text": [
            "[[9.991429e-01 3.511935e-04 5.058228e-04]]\n",
            "[1. 0. 0.]\n",
            "0\n",
            "0\n",
            "[1. 0. 0.]\n"
          ],
          "name": "stdout"
        }
      ]
    },
    {
      "cell_type": "code",
      "metadata": {
        "id": "zZYa0hMnFXi_",
        "colab_type": "code",
        "outputId": "f845ec5d-f8cf-418c-c64b-bf9ed72b79ab",
        "colab": {
          "base_uri": "https://localhost:8080/",
          "height": 51
        }
      },
      "source": [
        "test_img, test_label = X_valid, y_valid\n",
        "print(test_img.shape)\n",
        "print(test_label.shape)"
      ],
      "execution_count": 0,
      "outputs": [
        {
          "output_type": "stream",
          "text": [
            "(6312, 72, 128, 3)\n",
            "(6312, 3)\n"
          ],
          "name": "stdout"
        }
      ]
    },
    {
      "cell_type": "code",
      "metadata": {
        "id": "e1jrxL3YTqjq",
        "colab_type": "code",
        "colab": {}
      },
      "source": [
        "#####call back model######\n",
        "from keras.models import load_model\n",
        "from keras.models import model_from_json\n",
        "import json\n",
        "\n",
        "with open('/content/drive/My Drive/Colab Notebooks/DroNet_V2_ASE/Back_Up/back_up_vat_can/Dronet_008_vatcan_model_in_json.json','r') as f:\n",
        "    model_json = json.load(f)\n",
        "model = model_from_json(model_json)\n",
        "model.load_weights('/content/drive/My Drive/Colab Notebooks/DroNet_V2_ASE/Back_Up/back_up_vat_can/Dronet_008_vatcan_weights.h5')\n",
        "\n",
        "#####predict_data_test#####\n",
        "import statistics \n",
        "a_0 =[] #thang\n",
        "a_1 =[] #trai\n",
        "a_2 =[] #phai\n",
        "accuracy_on_test_set_point = 0\n",
        "test = []\n",
        "for index in range(0, len(test_img)):\n",
        "  predictASE = model.predict(test_img[index].reshape(1, 72, 128, 3))\n",
        "  #check label, get accuracy_point\n",
        "  if np.argmax(predictASE) == np.argmax(test_label[index]):\n",
        "    accuracy_on_test_set_point = accuracy_on_test_set_point + 1\n",
        "    if np.argmax(predictASE) == 0:\n",
        "      a_0.append(predictASE[0][0])\n",
        "    if np.argmax(predictASE) == 1:\n",
        "      a_1.append(predictASE[0][1])\n",
        "    if np.argmax(predictASE) == 2:\n",
        "      a_2.append(predictASE[0][2])"
      ],
      "execution_count": 0,
      "outputs": []
    },
    {
      "cell_type": "code",
      "metadata": {
        "id": "XORVxtjjM0QG",
        "colab_type": "code",
        "outputId": "15942097-d691-40c1-91bf-08cb2f8f71f7",
        "colab": {
          "base_uri": "https://localhost:8080/",
          "height": 85
        }
      },
      "source": [
        "accuracy = (accuracy_on_test_set_point/len(test_img))*100\n",
        "A_0 = [min(a_0), max(a_0), np.mean(a_0)]\n",
        "A_1 = [min(a_1), max(a_1), np.mean(a_1)]\n",
        "A_2 = [min(a_2), max(a_2), np.mean(a_2)]\n",
        "\n",
        "# ####print_result####\n",
        "print(\"A_0:\", A_0)\n",
        "print(\"A_1:\", A_1)\n",
        "print(\"A_2:\", A_2)\n",
        "print(\"Accuracy:\", accuracy, \"%\")\n"
      ],
      "execution_count": 0,
      "outputs": [
        {
          "output_type": "stream",
          "text": [
            "A_0: [0.9988211, 1.0, 0.9999677]\n",
            "A_1: [0.9996792, 1.0, 0.99999404]\n",
            "A_2: [0.99963117, 1.0, 0.99999046]\n",
            "Accuracy: 100.0 %\n"
          ],
          "name": "stdout"
        }
      ]
    }
  ]
}